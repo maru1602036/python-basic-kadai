{
  "cells": [
    {
      "cell_type": "code",
      "execution_count": null,
      "metadata": {
        "id": "eCmRmWYTDkNz"
      },
      "outputs": [],
      "source": [
        "human_list = [\n",
        "    Human(\"Alice\", 25),\n",
        "    Human(\"Bob\", 18),\n",
        "    Human(\"Charlie\", 30),\n",
        "    Human(\"David\", 15)\n",
        "]\n",
        "\n",
        "# リストの要素数分だけcheck_adultメソッドを呼び出し\n",
        "for human in human_list:\n",
        "    human.check_adult()"
      ]
    }
  ],
  "metadata": {
    "colab": {
      "provenance": []
    },
    "kernelspec": {
      "display_name": "Python 3",
      "name": "python3"
    },
    "language_info": {
      "name": "python"
    }
  },
  "nbformat": 4,
  "nbformat_minor": 0
}
