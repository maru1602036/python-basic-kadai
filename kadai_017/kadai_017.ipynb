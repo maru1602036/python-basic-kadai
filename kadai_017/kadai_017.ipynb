{
  "cells": [
    {
      "cell_type": "code",
      "execution_count": null,
      "metadata": {
        "id": "eCmRmWYTDkNz"
      },
      "outputs": [],
      "source": [
        "class Human:\n",
        "    def __init__(self, name, age):\n",
        "        self.name = name\n",
        "        self.age = age\n",
        "\n",
        "    def check_adult(self):\n",
        "        if self.age >= 20:\n",
        "            print(f\"{self.name} is adult.\")\n",
        "        else:\n",
        "            print(f\"{self.name} is not adult.\")\n",
        "\n",
        "# 人の情報をリストとして管理\n",
        "people = [\n",
        "    Human(\"一郎\", 19),\n",
        "    Human(\"二郎\", 20),\n",
        "]\n",
        "\n",
        "# リストの各要素に対してcheck_adultメソッドを呼び出し\n",
        "for person in people:\n",
        "    person.check_adult()\n"
      ]
    }
  ],
  "metadata": {
    "colab": {
      "provenance": []
    },
    "kernelspec": {
      "display_name": "Python 3",
      "name": "python3"
    },
    "language_info": {
      "name": "python"
    }
  },
  "nbformat": 4,
  "nbformat_minor": 0
}
