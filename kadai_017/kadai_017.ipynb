{
  "cells": [
    {
      "cell_type": "code",
      "execution_count": null,
      "metadata": {
        "id": "eCmRmWYTDkNz"
      },
      "outputs": [],
      "source": [
        "class Human:\n",
        "    def __init__(self, name, age, gender):gender\n",
        "        self.name = name\n",
        "        self.age = age\n",
        "        self.gender = \n",
        "\n",
        "# ここから下にインデントを追加\n",
        "    def check_adult(self):\n",
        "        if self.age >= 20:\n",
        "            print(f\"{self.name}大人である\")\n",
        "        else:\n",
        "            print(f\"{self.name}大人でない\")\n",
        "\n",
        "# 人の情報をリストとして管理\n",
        "people = [\n",
        "    Human(\"一郎\", 19),\n",
        "    Human(\"二郎\", 20),\n",
        "]\n",
        "\n"
      ]
    }
  ],
  "metadata": {
    "colab": {
      "provenance": []
    },
    "kernelspec": {
      "display_name": "Python 3",
      "name": "python3"
    },
    "language_info": {
      "name": "python"
    }
  },
  "nbformat": 4,
  "nbformat_minor": 0
}
