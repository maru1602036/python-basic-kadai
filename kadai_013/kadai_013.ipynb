{
  "cells": [
    {
      "cell_type": "code",
      "execution_count": null,
      "metadata": {
        "vscode": {
          "languageId": "plaintext"
        }
      },
      "outputs": [],
      "source": [
        "# 消費税を加えた価格を計算する関数\n",
        "def calculate_price_with_tax(price, tax_rate):\n",
        "  \"\"\"\n",
        "  商品の金額と消費税率から、消費税込みの価格を計算して返します。\n",
        "\n",
        "  Args:\n",
        "    price: 商品の金額 (int または float)\n",
        "    tax_rate: 消費税率 (%) (int または float)\n",
        "\n",
        "  Returns:\n",
        "    消費税込みの価格 (float)\n",
        "  \"\"\"\n",
        "  tax_amount = price * (tax_rate / 100)\n",
        "  total_price = price + tax_amount\n",
        "  return total_price\n",
        "\n",
        "# 関数の使用例\n",
        "# 商品の金額: 110, 消費税率: 10%\n",
        "item_price = 110\n",
        "consumption_tax_rate = 10\n",
        "\n",
        "price_with_tax = calculate_price_with_tax(item_price, consumption_tax_rate)"
      ]
    }
  ],
  "metadata": {
    "colab": {
      "provenance": []
    },
    "kernelspec": {
      "display_name": "Python 3",
      "name": "python3"
    },
    "language_info": {
      "name": "python"
    }
  },
  "nbformat": 4,
  "nbformat_minor": 0
}
