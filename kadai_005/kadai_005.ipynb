{
  "cells": [
    {
      "cell_type": "code",
      "execution_count": null,
      "metadata": {
        "id": "1RfT2M7-WF2l"
      },
      "outputs": [],
      "source": [
        "up =  10\n",
        "down = 20\n",
        "heght = 5\n",
        "\n",
        "area = (up + down) * height / 2\n",
        "\n",
        "print(f\"{area}cm²\")"
      ]
    }
  ],
  "metadata": {
    "colab": {
      "provenance": []
    },
    "kernelspec": {
      "display_name": "Python 3",
      "name": "python3"
    },
    "language_info": {
      "name": "python"
    }
  },
  "nbformat": 4,
  "nbformat_minor": 0
}
